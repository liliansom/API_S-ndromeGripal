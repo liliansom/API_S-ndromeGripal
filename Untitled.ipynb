{
 "cells": [
  {
   "cell_type": "code",
   "execution_count": 6,
   "id": "d3b889ea",
   "metadata": {},
   "outputs": [],
   "source": [
    "import pandas as pd"
   ]
  },
  {
   "cell_type": "code",
   "execution_count": 7,
   "id": "b4fad298",
   "metadata": {},
   "outputs": [
    {
     "data": {
      "text/html": [
       "<div>\n",
       "<style scoped>\n",
       "    .dataframe tbody tr th:only-of-type {\n",
       "        vertical-align: middle;\n",
       "    }\n",
       "\n",
       "    .dataframe tbody tr th {\n",
       "        vertical-align: top;\n",
       "    }\n",
       "\n",
       "    .dataframe thead th {\n",
       "        text-align: right;\n",
       "    }\n",
       "</style>\n",
       "<table border=\"1\" class=\"dataframe\">\n",
       "  <thead>\n",
       "    <tr style=\"text-align: right;\">\n",
       "      <th></th>\n",
       "      <th>Total de Notificações</th>\n",
       "      <th>Data</th>\n",
       "    </tr>\n",
       "  </thead>\n",
       "  <tbody>\n",
       "    <tr>\n",
       "      <th>0</th>\n",
       "      <td>37297237</td>\n",
       "      <td>2023-04-13</td>\n",
       "    </tr>\n",
       "    <tr>\n",
       "      <th>1</th>\n",
       "      <td>37363786</td>\n",
       "      <td>2023-04-18</td>\n",
       "    </tr>\n",
       "    <tr>\n",
       "      <th>2</th>\n",
       "      <td>37382871</td>\n",
       "      <td>2023-04-19</td>\n",
       "    </tr>\n",
       "    <tr>\n",
       "      <th>3</th>\n",
       "      <td>37404575</td>\n",
       "      <td>2023-04-20</td>\n",
       "    </tr>\n",
       "    <tr>\n",
       "      <th>4</th>\n",
       "      <td>37409961</td>\n",
       "      <td>2023-04-21</td>\n",
       "    </tr>\n",
       "    <tr>\n",
       "      <th>5</th>\n",
       "      <td>37418033</td>\n",
       "      <td>2023-04-22</td>\n",
       "    </tr>\n",
       "    <tr>\n",
       "      <th>6</th>\n",
       "      <td>37423456</td>\n",
       "      <td>2023-04-23</td>\n",
       "    </tr>\n",
       "    <tr>\n",
       "      <th>7</th>\n",
       "      <td>37443327</td>\n",
       "      <td>2023-04-24</td>\n",
       "    </tr>\n",
       "    <tr>\n",
       "      <th>8</th>\n",
       "      <td>37461551</td>\n",
       "      <td>2023-04-25</td>\n",
       "    </tr>\n",
       "  </tbody>\n",
       "</table>\n",
       "</div>"
      ],
      "text/plain": [
       "   Total de Notificações        Data\n",
       "0               37297237  2023-04-13\n",
       "1               37363786  2023-04-18\n",
       "2               37382871  2023-04-19\n",
       "3               37404575  2023-04-20\n",
       "4               37409961  2023-04-21\n",
       "5               37418033  2023-04-22\n",
       "6               37423456  2023-04-23\n",
       "7               37443327  2023-04-24\n",
       "8               37461551  2023-04-25"
      ]
     },
     "metadata": {},
     "output_type": "display_data"
    }
   ],
   "source": [
    "# Importar a biblioteca Pandas\n",
    "import pandas as pd\n",
    "\n",
    "# Dados das notificações\n",
    "total_notificacoes = [37297237, 37363786, 37382871, 37404575, 37409961, 37418033, 37423456, 37443327, 37461551]\n",
    "datas = ['2023-04-13', '2023-04-18', '2023-04-19', '2023-04-20', '2023-04-21','2023-04-22', '2023-04-23', '2023-04-24', '2023-04-25']\n",
    "\n",
    "# Criar o DataFrame\n",
    "df = pd.DataFrame({'Total de Notificações': total_notificacoes, 'Data': datas})\n",
    "\n",
    "# Exibir o DataFrame sem o índice\n",
    "df = df.reset_index(drop=True)\n",
    "display(df)\n",
    "\n"
   ]
  },
  {
   "cell_type": "code",
   "execution_count": 8,
   "id": "bf87a1c4",
   "metadata": {},
   "outputs": [
    {
     "data": {
      "text/plain": [
       "Total de Notificações             int64\n",
       "Data                     datetime64[ns]\n",
       "dtype: object"
      ]
     },
     "execution_count": 8,
     "metadata": {},
     "output_type": "execute_result"
    }
   ],
   "source": [
    "df['Data'] = pd.to_datetime(df['Data'], format='%Y-%m-%d', errors='coerce')\n",
    "df.dtypes"
   ]
  },
  {
   "cell_type": "code",
   "execution_count": 9,
   "id": "ae486727",
   "metadata": {},
   "outputs": [],
   "source": [
    "#df.to_csv('total_sp.csv', index=False)"
   ]
  },
  {
   "cell_type": "code",
   "execution_count": 12,
   "id": "7503571e",
   "metadata": {},
   "outputs": [],
   "source": [
    "dados = [0]\n",
    "for i in range(1, len(df)):\n",
    "    valor_diario = df['Total de Notificações'][i] - df['Total de Notificações'][i-1]\n",
    "    dados.append(valor_diario)\n",
    "df['Valor Diário'] = dados\n"
   ]
  },
  {
   "cell_type": "code",
   "execution_count": 13,
   "id": "692381b2",
   "metadata": {},
   "outputs": [
    {
     "data": {
      "text/html": [
       "<div>\n",
       "<style scoped>\n",
       "    .dataframe tbody tr th:only-of-type {\n",
       "        vertical-align: middle;\n",
       "    }\n",
       "\n",
       "    .dataframe tbody tr th {\n",
       "        vertical-align: top;\n",
       "    }\n",
       "\n",
       "    .dataframe thead th {\n",
       "        text-align: right;\n",
       "    }\n",
       "</style>\n",
       "<table border=\"1\" class=\"dataframe\">\n",
       "  <thead>\n",
       "    <tr style=\"text-align: right;\">\n",
       "      <th></th>\n",
       "      <th>Total de Notificações</th>\n",
       "      <th>Data</th>\n",
       "      <th>Valor Diário</th>\n",
       "    </tr>\n",
       "  </thead>\n",
       "  <tbody>\n",
       "    <tr>\n",
       "      <th>0</th>\n",
       "      <td>37297237</td>\n",
       "      <td>2023-04-13</td>\n",
       "      <td>0</td>\n",
       "    </tr>\n",
       "    <tr>\n",
       "      <th>1</th>\n",
       "      <td>37363786</td>\n",
       "      <td>2023-04-18</td>\n",
       "      <td>66549</td>\n",
       "    </tr>\n",
       "    <tr>\n",
       "      <th>2</th>\n",
       "      <td>37382871</td>\n",
       "      <td>2023-04-19</td>\n",
       "      <td>19085</td>\n",
       "    </tr>\n",
       "    <tr>\n",
       "      <th>3</th>\n",
       "      <td>37404575</td>\n",
       "      <td>2023-04-20</td>\n",
       "      <td>21704</td>\n",
       "    </tr>\n",
       "    <tr>\n",
       "      <th>4</th>\n",
       "      <td>37409961</td>\n",
       "      <td>2023-04-21</td>\n",
       "      <td>5386</td>\n",
       "    </tr>\n",
       "    <tr>\n",
       "      <th>5</th>\n",
       "      <td>37418033</td>\n",
       "      <td>2023-04-22</td>\n",
       "      <td>8072</td>\n",
       "    </tr>\n",
       "    <tr>\n",
       "      <th>6</th>\n",
       "      <td>37423456</td>\n",
       "      <td>2023-04-23</td>\n",
       "      <td>5423</td>\n",
       "    </tr>\n",
       "    <tr>\n",
       "      <th>7</th>\n",
       "      <td>37443327</td>\n",
       "      <td>2023-04-24</td>\n",
       "      <td>19871</td>\n",
       "    </tr>\n",
       "    <tr>\n",
       "      <th>8</th>\n",
       "      <td>37461551</td>\n",
       "      <td>2023-04-25</td>\n",
       "      <td>18224</td>\n",
       "    </tr>\n",
       "  </tbody>\n",
       "</table>\n",
       "</div>"
      ],
      "text/plain": [
       "   Total de Notificações       Data  Valor Diário\n",
       "0               37297237 2023-04-13             0\n",
       "1               37363786 2023-04-18         66549\n",
       "2               37382871 2023-04-19         19085\n",
       "3               37404575 2023-04-20         21704\n",
       "4               37409961 2023-04-21          5386\n",
       "5               37418033 2023-04-22          8072\n",
       "6               37423456 2023-04-23          5423\n",
       "7               37443327 2023-04-24         19871\n",
       "8               37461551 2023-04-25         18224"
      ]
     },
     "execution_count": 13,
     "metadata": {},
     "output_type": "execute_result"
    }
   ],
   "source": [
    "df"
   ]
  },
  {
   "cell_type": "code",
   "execution_count": null,
   "id": "68240cdb",
   "metadata": {},
   "outputs": [],
   "source": []
  }
 ],
 "metadata": {
  "kernelspec": {
   "display_name": "Python 3 (ipykernel)",
   "language": "python",
   "name": "python3"
  },
  "language_info": {
   "codemirror_mode": {
    "name": "ipython",
    "version": 3
   },
   "file_extension": ".py",
   "mimetype": "text/x-python",
   "name": "python",
   "nbconvert_exporter": "python",
   "pygments_lexer": "ipython3",
   "version": "3.9.16"
  }
 },
 "nbformat": 4,
 "nbformat_minor": 5
}
