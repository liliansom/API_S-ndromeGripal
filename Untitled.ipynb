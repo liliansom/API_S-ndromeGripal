{
 "cells": [
  {
   "cell_type": "code",
   "execution_count": 1,
   "id": "3a3f5681",
   "metadata": {},
   "outputs": [],
   "source": [
    "import pandas as pd"
   ]
  },
  {
   "cell_type": "code",
   "execution_count": 2,
   "id": "5355f03f",
   "metadata": {},
   "outputs": [
    {
     "name": "stdout",
     "output_type": "stream",
     "text": [
      "   Total de Notificações        Data\n",
      "0               37297237  2023-04-13\n",
      "1               37363786  2023-04-18\n",
      "2               37382871  2023-04-19\n",
      "3               37404575  2023-04-20\n",
      "4               37409961  2023-04-21\n",
      "5               37418033  2023-04-22\n",
      "6               37423456  2023-04-23\n",
      "7               37443327  2023-04-24\n",
      "8               37461551  2023-04-25\n"
     ]
    }
   ],
   "source": [
    "# Dados das notificações\n",
    "total_notificacoes = [37297237, 37363786, 37382871, 37404575, 37409961, 37418033, 37423456, 37443327, 37461551]  # Exemplo de lista com o total de notificações\n",
    "datas = ['2023-04-13', '2023-04-18', '2023-04-19', '2023-04-20', '2023-04-21','2023-04-22', '2023-04-23', '2023-04-24', '2023-04-25']  # Exemplo de lista com as datas\n",
    "\n",
    "# Criar o DataFrame\n",
    "df = pd.DataFrame({'Total de Notificações': total_notificacoes, 'Data': datas})\n",
    "\n",
    "# Exibir o DataFrame\n",
    "print(df)\n"
   ]
  },
  {
   "cell_type": "code",
   "execution_count": null,
   "id": "a1cb3d55",
   "metadata": {},
   "outputs": [],
   "source": [
    "df['DATA'] = pd.to_datetime(df_concat['DATA'], format='%d/%m/%Y', errors='coerce')"
   ]
  }
 ],
 "metadata": {
  "kernelspec": {
   "display_name": "Python 3 (ipykernel)",
   "language": "python",
   "name": "python3"
  },
  "language_info": {
   "codemirror_mode": {
    "name": "ipython",
    "version": 3
   },
   "file_extension": ".py",
   "mimetype": "text/x-python",
   "name": "python",
   "nbconvert_exporter": "python",
   "pygments_lexer": "ipython3",
   "version": "3.9.16"
  }
 },
 "nbformat": 4,
 "nbformat_minor": 5
}
