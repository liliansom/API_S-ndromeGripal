{
 "cells": [
  {
   "cell_type": "code",
   "execution_count": 1,
   "id": "1d3288aa",
   "metadata": {},
   "outputs": [],
   "source": [
    "import requests\n",
    "import pandas as pd\n",
    "import json"
   ]
  },
  {
   "cell_type": "code",
   "execution_count": 14,
   "id": "d178d52f",
   "metadata": {},
   "outputs": [
    {
     "name": "stdout",
     "output_type": "stream",
     "text": [
      "Os dados foram salvos em 'data.json'\n"
     ]
    }
   ],
   "source": [
    "# Total de contagem de notificações no Brasil\n",
    "url = 'https://elasticsearch-saps.saude.gov.br/desc-esus-notifica-estado-*/_count'\n",
    "auth = ('user-public-notificacoes', 'Za4qNXdyQNSa9YaA')\n",
    "\n",
    "response = requests.get(url, auth=auth)\n",
    "\n",
    "if response.status_code == 200:\n",
    "    json_data = response.json()\n",
    "    with open('data_br.json', 'w') as file:\n",
    "        json.dump(json_data, file)\n",
    "    print(\"Os dados foram salvos em 'data.json'\")\n",
    "else:\n",
    "    print(f\"Erro na solicitação: {response.status_code}\")\n",
    "\n",
    "\n"
   ]
  },
  {
   "cell_type": "code",
   "execution_count": null,
   "id": "e4a1abcf",
   "metadata": {},
   "outputs": [],
   "source": [
    "# Total de contagem de notificações no Brasil\n",
    "url = 'https://elasticsearch-saps.saude.gov.br/desc-esus-notifica-estado-sp/_count'\n",
    "auth = ('user-public-notificacoes', 'Za4qNXdyQNSa9YaA')\n",
    "\n",
    "response = requests.get(url, auth=auth)\n",
    "\n",
    "if response.status_code == 200:\n",
    "    json_data = response.json()\n",
    "    with open('data_sp.json', 'w') as file:\n",
    "        json.dump(json_data, file)\n",
    "    print(\"Os dados foram salvos em 'data_sp.json'\")\n",
    "else:\n",
    "    print(f\"Erro na solicitação: {response.status_code}\")\n"
   ]
  },
  {
   "cell_type": "code",
   "execution_count": null,
   "id": "f042330a",
   "metadata": {},
   "outputs": [],
   "source": []
  }
 ],
 "metadata": {
  "kernelspec": {
   "display_name": "Python 3 (ipykernel)",
   "language": "python",
   "name": "python3"
  },
  "language_info": {
   "codemirror_mode": {
    "name": "ipython",
    "version": 3
   },
   "file_extension": ".py",
   "mimetype": "text/x-python",
   "name": "python",
   "nbconvert_exporter": "python",
   "pygments_lexer": "ipython3",
   "version": "3.9.16"
  }
 },
 "nbformat": 4,
 "nbformat_minor": 5
}
